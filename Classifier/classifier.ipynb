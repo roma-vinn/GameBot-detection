{
 "cells": [
  {
   "cell_type": "code",
   "execution_count": 1,
   "metadata": {},
   "outputs": [],
   "source": [
    "%matplotlib inline"
   ]
  },
  {
   "cell_type": "code",
   "execution_count": 22,
   "metadata": {},
   "outputs": [],
   "source": [
    "import numpy as np\n",
    "import pandas as pd\n",
    "import matplotlib.pyplot as plt\n",
    "from sklearn.model_selection import train_test_split\n",
    "from sklearn.preprocessing import scale\n",
    "from sklearn.metrics import confusion_matrix, roc_curve, roc_auc_score, average_precision_score\n",
    "from sklearn.linear_model import LogisticRegression, LogisticRegressionCV\n",
    "from sklearn.naive_bayes import GaussianNB\n",
    "from sklearn.neighbors import KNeighborsClassifier\n",
    "from sklearn.tree import DecisionTreeClassifier\n",
    "from sklearn.ensemble import (RandomForestClassifier, ExtraTreesClassifier, AdaBoostClassifier,\n",
    "                              BaggingClassifier, VotingClassifier, GradientBoostingClassifier)"
   ]
  },
  {
   "cell_type": "code",
   "execution_count": 4,
   "metadata": {},
   "outputs": [],
   "source": [
    "methods = {'Logistic regression': LogisticRegression(),\n",
    "           'Naive Bayes': GaussianNB(),\n",
    "           'K-NN': KNeighborsClassifier(), \n",
    "           'Decision Tree': DecisionTreeClassifier(), \n",
    "           'Random Forest': RandomForestClassifier(), \n",
    "           'Extra Trees': ExtraTreesClassifier(), \n",
    "           'Vote': VotingClassifier(estimators=[('lr', LogisticRegressionCV(cv=5, max_iter=1000)),\n",
    "                                                  ('nb', GaussianNB()),\n",
    "                                                  ('dt', DecisionTreeClassifier()),\n",
    "                                                  ('et', ExtraTreesClassifier(n_estimators=100, bootstrap=True)),\n",
    "                                                  ('rf', RandomForestClassifier(n_estimators=150))],\n",
    "                                      voting='soft')}"
   ]
  },
  {
   "cell_type": "code",
   "execution_count": 5,
   "metadata": {},
   "outputs": [],
   "source": [
    "def classifier(X, y, methods, test_size=0.25, save=None):\n",
    "    X_train, X_test, y_train, y_test = train_test_split(X, y, test_size=test_size)\n",
    "    \n",
    "    file_res = ''\n",
    "    \n",
    "    for name, clf in methods.items():\n",
    "    \n",
    "        res = ''\n",
    "        \n",
    "        clf.fit(X_train, y_train)\n",
    "        prediction = clf.predict(X_test)\n",
    "\n",
    "        res += '\\t' + name + '\\n'\n",
    "        res += 'Confusion matrix:\\n{}\\n'.format(confusion_matrix(y_test, prediction))\n",
    "        res += 'Accuracy: {}\\n'.format(clf.score(X_test, y_test))\n",
    "        res += 'AUC score: {}\\n'.format(roc_auc_score(y_test, prediction))\n",
    "        print(res)\n",
    "        \n",
    "        tpr, fpr, thrh = roc_curve(y_test, prediction)        \n",
    "        plt.plot(tpr, fpr, label=name)\n",
    "        plt.legend(loc='best')\n",
    "        \n",
    "        file_res += res\n",
    "    \n",
    "    if save:\n",
    "        with open('{}.txt', 'w') as f:\n",
    "            print(file_res, file=f)"
   ]
  },
  {
   "cell_type": "code",
   "execution_count": 6,
   "metadata": {},
   "outputs": [],
   "source": [
    "def get_name(obj):\n",
    "    return str(obj).split('.')[-1][:-2]"
   ]
  },
  {
   "cell_type": "code",
   "execution_count": 7,
   "metadata": {},
   "outputs": [],
   "source": [
    "def boosted_classifier(X, y, boost_method, methods, test_size=0.25, save=None):\n",
    "    X_train, X_test, y_train, y_test = train_test_split(X, y, test_size=test_size)\n",
    "    \n",
    "    file_res = ''\n",
    "    \n",
    "    for name, clf in methods.items():\n",
    "    \n",
    "        res = ''\n",
    "        # because AdaBoostClassifier doesn't support K-NN\n",
    "        boosted_clf = boost_method(clf)\n",
    "        try:\n",
    "            boosted_clf.fit(X_train, y_train)\n",
    "        except ValueError:\n",
    "            continue\n",
    "        prediction = boosted_clf.predict(X_test)\n",
    "\n",
    "        res += '\\t{} + {}\\n'.format(get_name(boost_method), name)\n",
    "        res += 'Confusion matrix:\\n{}\\n'.format(confusion_matrix(y_test, prediction))\n",
    "        res += 'Accuracy: {}\\n'.format(boosted_clf.score(X_test, y_test))\n",
    "        res += 'AUC score: {}\\n'.format(roc_auc_score(y_test, prediction))\n",
    "        print(res)\n",
    "        \n",
    "        tpr, fpr, thrh = roc_curve(y_test, prediction)        \n",
    "        plt.plot(tpr, fpr, label=name)\n",
    "        plt.legend(loc='best')\n",
    "        \n",
    "        file_res += res\n",
    "    \n",
    "    if save:\n",
    "        with open('{}.txt', 'w') as f:\n",
    "            print(file_res, file=f)"
   ]
  },
  {
   "cell_type": "markdown",
   "metadata": {},
   "source": [
    "### Working with 10s time windows"
   ]
  },
  {
   "cell_type": "code",
   "execution_count": 8,
   "metadata": {},
   "outputs": [],
   "source": [
    "data = pd.read_csv('../Parser/human-bot-10000-data.csv', index_col=[0])"
   ]
  },
  {
   "cell_type": "code",
   "execution_count": 9,
   "metadata": {},
   "outputs": [
    {
     "data": {
      "text/plain": [
       "(232, 225)"
      ]
     },
     "execution_count": 9,
     "metadata": {},
     "output_type": "execute_result"
    }
   ],
   "source": [
    "len(data[data['label'] == 1]), len(data[data['label'] == 0])"
   ]
  },
  {
   "cell_type": "markdown",
   "metadata": {},
   "source": [
    "Very balanced data"
   ]
  },
  {
   "cell_type": "code",
   "execution_count": 10,
   "metadata": {},
   "outputs": [],
   "source": [
    "X = data.drop('label', axis=1)\n",
    "y = data['label']"
   ]
  },
  {
   "cell_type": "code",
   "execution_count": 11,
   "metadata": {},
   "outputs": [
    {
     "data": {
      "text/html": [
       "<div>\n",
       "<style scoped>\n",
       "    .dataframe tbody tr th:only-of-type {\n",
       "        vertical-align: middle;\n",
       "    }\n",
       "\n",
       "    .dataframe tbody tr th {\n",
       "        vertical-align: top;\n",
       "    }\n",
       "\n",
       "    .dataframe thead th {\n",
       "        text-align: right;\n",
       "    }\n",
       "</style>\n",
       "<table border=\"1\" class=\"dataframe\">\n",
       "  <thead>\n",
       "    <tr style=\"text-align: right;\">\n",
       "      <th></th>\n",
       "      <th>apm</th>\n",
       "      <th>epm</th>\n",
       "      <th>gpm</th>\n",
       "      <th>aht</th>\n",
       "      <th>dev</th>\n",
       "      <th>tln</th>\n",
       "      <th>dbc</th>\n",
       "      <th>tbc</th>\n",
       "    </tr>\n",
       "  </thead>\n",
       "  <tbody>\n",
       "    <tr>\n",
       "      <th>count</th>\n",
       "      <td>457.000000</td>\n",
       "      <td>457.000000</td>\n",
       "      <td>457.000000</td>\n",
       "      <td>457.000000</td>\n",
       "      <td>457.000000</td>\n",
       "      <td>457.000000</td>\n",
       "      <td>457.000000</td>\n",
       "      <td>457.000000</td>\n",
       "    </tr>\n",
       "    <tr>\n",
       "      <th>mean</th>\n",
       "      <td>0.008462</td>\n",
       "      <td>0.063670</td>\n",
       "      <td>0.005516</td>\n",
       "      <td>0.032175</td>\n",
       "      <td>0.105590</td>\n",
       "      <td>0.498994</td>\n",
       "      <td>0.127355</td>\n",
       "      <td>0.762182</td>\n",
       "    </tr>\n",
       "    <tr>\n",
       "      <th>std</th>\n",
       "      <td>0.004545</td>\n",
       "      <td>0.129039</td>\n",
       "      <td>0.011662</td>\n",
       "      <td>0.051082</td>\n",
       "      <td>0.114127</td>\n",
       "      <td>0.223614</td>\n",
       "      <td>0.077323</td>\n",
       "      <td>0.212169</td>\n",
       "    </tr>\n",
       "    <tr>\n",
       "      <th>min</th>\n",
       "      <td>0.000000</td>\n",
       "      <td>0.000000</td>\n",
       "      <td>0.000000</td>\n",
       "      <td>0.000000</td>\n",
       "      <td>0.000000</td>\n",
       "      <td>0.000000</td>\n",
       "      <td>0.000000</td>\n",
       "      <td>0.000000</td>\n",
       "    </tr>\n",
       "    <tr>\n",
       "      <th>25%</th>\n",
       "      <td>0.005835</td>\n",
       "      <td>0.017260</td>\n",
       "      <td>0.001562</td>\n",
       "      <td>0.003756</td>\n",
       "      <td>0.062680</td>\n",
       "      <td>0.340220</td>\n",
       "      <td>0.083858</td>\n",
       "      <td>0.664893</td>\n",
       "    </tr>\n",
       "    <tr>\n",
       "      <th>50%</th>\n",
       "      <td>0.007930</td>\n",
       "      <td>0.038703</td>\n",
       "      <td>0.003401</td>\n",
       "      <td>0.031421</td>\n",
       "      <td>0.091171</td>\n",
       "      <td>0.521474</td>\n",
       "      <td>0.117482</td>\n",
       "      <td>0.810808</td>\n",
       "    </tr>\n",
       "    <tr>\n",
       "      <th>75%</th>\n",
       "      <td>0.010576</td>\n",
       "      <td>0.065507</td>\n",
       "      <td>0.006254</td>\n",
       "      <td>0.050750</td>\n",
       "      <td>0.117114</td>\n",
       "      <td>0.683270</td>\n",
       "      <td>0.157529</td>\n",
       "      <td>0.913200</td>\n",
       "    </tr>\n",
       "    <tr>\n",
       "      <th>max</th>\n",
       "      <td>0.033602</td>\n",
       "      <td>1.000000</td>\n",
       "      <td>0.122749</td>\n",
       "      <td>0.912385</td>\n",
       "      <td>0.916342</td>\n",
       "      <td>0.903073</td>\n",
       "      <td>0.706798</td>\n",
       "      <td>0.998487</td>\n",
       "    </tr>\n",
       "  </tbody>\n",
       "</table>\n",
       "</div>"
      ],
      "text/plain": [
       "              apm         epm         gpm         aht         dev         tln  \\\n",
       "count  457.000000  457.000000  457.000000  457.000000  457.000000  457.000000   \n",
       "mean     0.008462    0.063670    0.005516    0.032175    0.105590    0.498994   \n",
       "std      0.004545    0.129039    0.011662    0.051082    0.114127    0.223614   \n",
       "min      0.000000    0.000000    0.000000    0.000000    0.000000    0.000000   \n",
       "25%      0.005835    0.017260    0.001562    0.003756    0.062680    0.340220   \n",
       "50%      0.007930    0.038703    0.003401    0.031421    0.091171    0.521474   \n",
       "75%      0.010576    0.065507    0.006254    0.050750    0.117114    0.683270   \n",
       "max      0.033602    1.000000    0.122749    0.912385    0.916342    0.903073   \n",
       "\n",
       "              dbc         tbc  \n",
       "count  457.000000  457.000000  \n",
       "mean     0.127355    0.762182  \n",
       "std      0.077323    0.212169  \n",
       "min      0.000000    0.000000  \n",
       "25%      0.083858    0.664893  \n",
       "50%      0.117482    0.810808  \n",
       "75%      0.157529    0.913200  \n",
       "max      0.706798    0.998487  "
      ]
     },
     "execution_count": 11,
     "metadata": {},
     "output_type": "execute_result"
    }
   ],
   "source": [
    "X.describe()"
   ]
  },
  {
   "cell_type": "code",
   "execution_count": 12,
   "metadata": {},
   "outputs": [
    {
     "name": "stdout",
     "output_type": "stream",
     "text": [
      "\tLogistic regression\n",
      "Confusion matrix:\n",
      "[[42 12]\n",
      " [10 51]]\n",
      "Accuracy: 0.808695652173913\n",
      "AUC score: 0.8069216757741348\n",
      "\n",
      "\tNaive Bayes\n",
      "Confusion matrix:\n",
      "[[34 20]\n",
      " [ 5 56]]\n",
      "Accuracy: 0.782608695652174\n",
      "AUC score: 0.7738312082574379\n",
      "\n",
      "\tK-NN\n",
      "Confusion matrix:\n",
      "[[47  7]\n",
      " [ 8 53]]\n",
      "Accuracy: 0.8695652173913043\n",
      "AUC score: 0.8696114146933819\n",
      "\n",
      "\tDecision Tree\n",
      "Confusion matrix:\n",
      "[[45  9]\n",
      " [ 6 55]]\n",
      "Accuracy: 0.8695652173913043\n",
      "AUC score: 0.8674863387978142\n",
      "\n",
      "\tRandom Forest\n",
      "Confusion matrix:\n",
      "[[50  4]\n",
      " [ 7 54]]\n",
      "Accuracy: 0.9043478260869565\n",
      "AUC score: 0.9055859137826352\n",
      "\n",
      "\tExtra Trees\n",
      "Confusion matrix:\n",
      "[[50  4]\n",
      " [ 8 53]]\n",
      "Accuracy: 0.8956521739130435\n",
      "AUC score: 0.8973891924711596\n",
      "\n",
      "\tVote\n",
      "Confusion matrix:\n",
      "[[44 10]\n",
      " [ 6 55]]\n",
      "Accuracy: 0.8608695652173913\n",
      "AUC score: 0.8582270795385549\n",
      "\n"
     ]
    },
    {
     "name": "stderr",
     "output_type": "stream",
     "text": [
      "/anaconda3/lib/python3.6/site-packages/sklearn/preprocessing/label.py:151: DeprecationWarning: The truth value of an empty array is ambiguous. Returning False, but in future this will result in an error. Use `array.size > 0` to check that an array is not empty.\n",
      "  if diff:\n",
      "/anaconda3/lib/python3.6/site-packages/sklearn/preprocessing/label.py:151: DeprecationWarning: The truth value of an empty array is ambiguous. Returning False, but in future this will result in an error. Use `array.size > 0` to check that an array is not empty.\n",
      "  if diff:\n"
     ]
    },
    {
     "data": {
      "image/png": "[encoded data removed]",
      "text/plain": [
       "<Figure size 432x288 with 1 Axes>"
      ]
     },
     "metadata": {},
     "output_type": "display_data"
    }
   ],
   "source": [
    "classifier(X, y, methods=methods)"
   ]
  },
  {
   "cell_type": "markdown",
   "metadata": {},
   "source": [
    "### As we can see, the accuracy is not high enough. Lets try 20s time windows"
   ]
  },
  {
   "cell_type": "code",
   "execution_count": 13,
   "metadata": {},
   "outputs": [],
   "source": [
    "data = pd.read_csv('../Parser/human-bot-20000-data.csv', index_col=[0])"
   ]
  },
  {
   "cell_type": "code",
   "execution_count": 14,
   "metadata": {},
   "outputs": [
    {
     "data": {
      "text/plain": [
       "(118, 114)"
      ]
     },
     "execution_count": 14,
     "metadata": {},
     "output_type": "execute_result"
    }
   ],
   "source": [
    "len(data[data['label'] == 1]), len(data[data['label'] == 0])"
   ]
  },
  {
   "cell_type": "markdown",
   "metadata": {},
   "source": [
    "Still very balanced"
   ]
  },
  {
   "cell_type": "code",
   "execution_count": 15,
   "metadata": {},
   "outputs": [],
   "source": [
    "X = data.drop('label', axis=1)\n",
    "y = data['label']"
   ]
  },
  {
   "cell_type": "code",
   "execution_count": 16,
   "metadata": {},
   "outputs": [
    {
     "data": {
      "text/html": [
       "<div>\n",
       "<style scoped>\n",
       "    .dataframe tbody tr th:only-of-type {\n",
       "        vertical-align: middle;\n",
       "    }\n",
       "\n",
       "    .dataframe tbody tr th {\n",
       "        vertical-align: top;\n",
       "    }\n",
       "\n",
       "    .dataframe thead th {\n",
       "        text-align: right;\n",
       "    }\n",
       "</style>\n",
       "<table border=\"1\" class=\"dataframe\">\n",
       "  <thead>\n",
       "    <tr style=\"text-align: right;\">\n",
       "      <th></th>\n",
       "      <th>apm</th>\n",
       "      <th>epm</th>\n",
       "      <th>gpm</th>\n",
       "      <th>aht</th>\n",
       "      <th>dev</th>\n",
       "      <th>tln</th>\n",
       "      <th>dbc</th>\n",
       "      <th>tbc</th>\n",
       "    </tr>\n",
       "  </thead>\n",
       "  <tbody>\n",
       "    <tr>\n",
       "      <th>count</th>\n",
       "      <td>232.000000</td>\n",
       "      <td>232.000000</td>\n",
       "      <td>232.000000</td>\n",
       "      <td>232.000000</td>\n",
       "      <td>232.000000</td>\n",
       "      <td>232.000000</td>\n",
       "      <td>232.000000</td>\n",
       "      <td>232.000000</td>\n",
       "    </tr>\n",
       "    <tr>\n",
       "      <th>mean</th>\n",
       "      <td>0.004188</td>\n",
       "      <td>0.035081</td>\n",
       "      <td>0.003064</td>\n",
       "      <td>0.017564</td>\n",
       "      <td>0.071894</td>\n",
       "      <td>0.520314</td>\n",
       "      <td>0.072122</td>\n",
       "      <td>0.786141</td>\n",
       "    </tr>\n",
       "    <tr>\n",
       "      <th>std</th>\n",
       "      <td>0.001766</td>\n",
       "      <td>0.098405</td>\n",
       "      <td>0.008661</td>\n",
       "      <td>0.021960</td>\n",
       "      <td>0.099750</td>\n",
       "      <td>0.207819</td>\n",
       "      <td>0.064621</td>\n",
       "      <td>0.179417</td>\n",
       "    </tr>\n",
       "    <tr>\n",
       "      <th>min</th>\n",
       "      <td>0.000000</td>\n",
       "      <td>0.000000</td>\n",
       "      <td>0.000000</td>\n",
       "      <td>0.000000</td>\n",
       "      <td>0.000000</td>\n",
       "      <td>0.000000</td>\n",
       "      <td>0.000000</td>\n",
       "      <td>0.000000</td>\n",
       "    </tr>\n",
       "    <tr>\n",
       "      <th>25%</th>\n",
       "      <td>0.003131</td>\n",
       "      <td>0.009891</td>\n",
       "      <td>0.000726</td>\n",
       "      <td>0.002095</td>\n",
       "      <td>0.047175</td>\n",
       "      <td>0.387391</td>\n",
       "      <td>0.046055</td>\n",
       "      <td>0.696145</td>\n",
       "    </tr>\n",
       "    <tr>\n",
       "      <th>50%</th>\n",
       "      <td>0.003993</td>\n",
       "      <td>0.020910</td>\n",
       "      <td>0.001801</td>\n",
       "      <td>0.017481</td>\n",
       "      <td>0.058276</td>\n",
       "      <td>0.547621</td>\n",
       "      <td>0.063225</td>\n",
       "      <td>0.816626</td>\n",
       "    </tr>\n",
       "    <tr>\n",
       "      <th>75%</th>\n",
       "      <td>0.005197</td>\n",
       "      <td>0.031221</td>\n",
       "      <td>0.002900</td>\n",
       "      <td>0.026567</td>\n",
       "      <td>0.069771</td>\n",
       "      <td>0.693689</td>\n",
       "      <td>0.081651</td>\n",
       "      <td>0.911841</td>\n",
       "    </tr>\n",
       "    <tr>\n",
       "      <th>max</th>\n",
       "      <td>0.013222</td>\n",
       "      <td>0.907804</td>\n",
       "      <td>0.092321</td>\n",
       "      <td>0.244653</td>\n",
       "      <td>0.816189</td>\n",
       "      <td>0.889198</td>\n",
       "      <td>0.698372</td>\n",
       "      <td>0.998279</td>\n",
       "    </tr>\n",
       "  </tbody>\n",
       "</table>\n",
       "</div>"
      ],
      "text/plain": [
       "              apm         epm         gpm         aht         dev         tln  \\\n",
       "count  232.000000  232.000000  232.000000  232.000000  232.000000  232.000000   \n",
       "mean     0.004188    0.035081    0.003064    0.017564    0.071894    0.520314   \n",
       "std      0.001766    0.098405    0.008661    0.021960    0.099750    0.207819   \n",
       "min      0.000000    0.000000    0.000000    0.000000    0.000000    0.000000   \n",
       "25%      0.003131    0.009891    0.000726    0.002095    0.047175    0.387391   \n",
       "50%      0.003993    0.020910    0.001801    0.017481    0.058276    0.547621   \n",
       "75%      0.005197    0.031221    0.002900    0.026567    0.069771    0.693689   \n",
       "max      0.013222    0.907804    0.092321    0.244653    0.816189    0.889198   \n",
       "\n",
       "              dbc         tbc  \n",
       "count  232.000000  232.000000  \n",
       "mean     0.072122    0.786141  \n",
       "std      0.064621    0.179417  \n",
       "min      0.000000    0.000000  \n",
       "25%      0.046055    0.696145  \n",
       "50%      0.063225    0.816626  \n",
       "75%      0.081651    0.911841  \n",
       "max      0.698372    0.998279  "
      ]
     },
     "execution_count": 16,
     "metadata": {},
     "output_type": "execute_result"
    }
   ],
   "source": [
    "X.describe()"
   ]
  },
  {
   "cell_type": "code",
   "execution_count": 17,
   "metadata": {},
   "outputs": [
    {
     "name": "stdout",
     "output_type": "stream",
     "text": [
      "\tLogistic regression\n",
      "Confusion matrix:\n",
      "[[25  6]\n",
      " [ 3 24]]\n",
      "Accuracy: 0.8448275862068966\n",
      "AUC score: 0.8476702508960573\n",
      "\n",
      "\tNaive Bayes\n",
      "Confusion matrix:\n",
      "[[18 13]\n",
      " [ 1 26]]\n",
      "Accuracy: 0.7586206896551724\n",
      "AUC score: 0.7718040621266427\n",
      "\n",
      "\tK-NN\n",
      "Confusion matrix:\n",
      "[[25  6]\n",
      " [ 2 25]]\n",
      "Accuracy: 0.8620689655172413\n",
      "AUC score: 0.8661887694145758\n",
      "\n",
      "\tDecision Tree\n",
      "Confusion matrix:\n",
      "[[30  1]\n",
      " [ 3 24]]\n",
      "Accuracy: 0.9310344827586207\n",
      "AUC score: 0.9283154121863799\n",
      "\n",
      "\tRandom Forest\n",
      "Confusion matrix:\n",
      "[[29  2]\n",
      " [ 1 26]]\n",
      "Accuracy: 0.9482758620689655\n",
      "AUC score: 0.9492234169653525\n",
      "\n",
      "\tExtra Trees\n",
      "Confusion matrix:\n",
      "[[27  4]\n",
      " [ 1 26]]\n",
      "Accuracy: 0.9137931034482759\n",
      "AUC score: 0.9169653524492233\n",
      "\n",
      "\tVote\n",
      "Confusion matrix:\n",
      "[[28  3]\n",
      " [ 1 26]]\n",
      "Accuracy: 0.9310344827586207\n",
      "AUC score: 0.9330943847072878\n",
      "\n"
     ]
    },
    {
     "name": "stderr",
     "output_type": "stream",
     "text": [
      "/anaconda3/lib/python3.6/site-packages/sklearn/preprocessing/label.py:151: DeprecationWarning: The truth value of an empty array is ambiguous. Returning False, but in future this will result in an error. Use `array.size > 0` to check that an array is not empty.\n",
      "  if diff:\n",
      "/anaconda3/lib/python3.6/site-packages/sklearn/preprocessing/label.py:151: DeprecationWarning: The truth value of an empty array is ambiguous. Returning False, but in future this will result in an error. Use `array.size > 0` to check that an array is not empty.\n",
      "  if diff:\n"
     ]
    },
    {
     "data": {
      "image/png": "[encoded data removed]",
      "text/plain": [
       "<Figure size 432x288 with 1 Axes>"
      ]
     },
     "metadata": {},
     "output_type": "display_data"
    }
   ],
   "source": [
    "classifier(X, y, methods=methods)"
   ]
  },
  {
   "cell_type": "markdown",
   "metadata": {},
   "source": [
    "#### Accuracy raised pretty good"
   ]
  },
  {
   "cell_type": "markdown",
   "metadata": {},
   "source": [
    "## Boosting"
   ]
  },
  {
   "cell_type": "markdown",
   "metadata": {},
   "source": [
    "We will work with 20s time windows as they have shown better accuracy"
   ]
  },
  {
   "cell_type": "code",
   "execution_count": 18,
   "metadata": {},
   "outputs": [],
   "source": [
    "data = pd.read_csv('../Parser/human-bot-20000-data.csv', index_col=[0])"
   ]
  },
  {
   "cell_type": "code",
   "execution_count": 19,
   "metadata": {},
   "outputs": [],
   "source": [
    "X = data.drop('label', axis=1)\n",
    "y = data['label']"
   ]
  },
  {
   "cell_type": "markdown",
   "metadata": {},
   "source": [
    "### Bagging"
   ]
  },
  {
   "cell_type": "code",
   "execution_count": 20,
   "metadata": {},
   "outputs": [
    {
     "name": "stdout",
     "output_type": "stream",
     "text": [
      "\tBaggingClassifier + Logistic regression\n",
      "Confusion matrix:\n",
      "[[20  5]\n",
      " [ 5 28]]\n",
      "Accuracy: 0.8275862068965517\n",
      "AUC score: 0.8242424242424243\n",
      "\n",
      "\tBaggingClassifier + Naive Bayes\n",
      "Confusion matrix:\n",
      "[[17  8]\n",
      " [ 1 32]]\n",
      "Accuracy: 0.8448275862068966\n",
      "AUC score: 0.8248484848484848\n",
      "\n",
      "\tBaggingClassifier + K-NN\n",
      "Confusion matrix:\n",
      "[[21  4]\n",
      " [ 3 30]]\n",
      "Accuracy: 0.8793103448275862\n",
      "AUC score: 0.8745454545454546\n",
      "\n",
      "\tBaggingClassifier + Decision Tree\n",
      "Confusion matrix:\n",
      "[[23  2]\n",
      " [ 3 30]]\n",
      "Accuracy: 0.9137931034482759\n",
      "AUC score: 0.9145454545454547\n",
      "\n",
      "\tBaggingClassifier + Random Forest\n",
      "Confusion matrix:\n",
      "[[24  1]\n",
      " [ 2 31]]\n",
      "Accuracy: 0.9482758620689655\n",
      "AUC score: 0.9496969696969697\n",
      "\n",
      "\tBaggingClassifier + Extra Trees\n",
      "Confusion matrix:\n",
      "[[24  1]\n",
      " [ 3 30]]\n",
      "Accuracy: 0.9310344827586207\n",
      "AUC score: 0.9345454545454546\n",
      "\n",
      "\tBaggingClassifier + Vote\n",
      "Confusion matrix:\n",
      "[[24  1]\n",
      " [ 1 32]]\n",
      "Accuracy: 0.9655172413793104\n",
      "AUC score: 0.9648484848484848\n",
      "\n"
     ]
    },
    {
     "data": {
      "image/png": "[encoded data removed]",
      "text/plain": [
       "<Figure size 432x288 with 1 Axes>"
      ]
     },
     "metadata": {},
     "output_type": "display_data"
    }
   ],
   "source": [
    "boosted_classifier(X, y, BaggingClassifier, methods)"
   ]
  },
  {
   "cell_type": "markdown",
   "metadata": {},
   "source": [
    "### Ada boost"
   ]
  },
  {
   "cell_type": "code",
   "execution_count": 23,
   "metadata": {},
   "outputs": [
    {
     "name": "stdout",
     "output_type": "stream",
     "text": [
      "\tAdaBoostClassifier + Logistic regression\n",
      "Confusion matrix:\n",
      "[[20  3]\n",
      " [ 5 30]]\n",
      "Accuracy: 0.8620689655172413\n",
      "AUC score: 0.8633540372670807\n",
      "\n",
      "\tAdaBoostClassifier + Naive Bayes\n",
      "Confusion matrix:\n",
      "[[14  9]\n",
      " [ 0 35]]\n",
      "Accuracy: 0.8448275862068966\n",
      "AUC score: 0.8043478260869565\n",
      "\n",
      "\tAdaBoostClassifier + Decision Tree\n",
      "Confusion matrix:\n",
      "[[21  2]\n",
      " [ 2 33]]\n",
      "Accuracy: 0.9310344827586207\n",
      "AUC score: 0.9279503105590063\n",
      "\n",
      "\tAdaBoostClassifier + Random Forest\n",
      "Confusion matrix:\n",
      "[[21  2]\n",
      " [ 4 31]]\n",
      "Accuracy: 0.896551724137931\n",
      "AUC score: 0.8993788819875776\n",
      "\n",
      "\tAdaBoostClassifier + Extra Trees\n",
      "Confusion matrix:\n",
      "[[21  2]\n",
      " [ 4 31]]\n",
      "Accuracy: 0.896551724137931\n",
      "AUC score: 0.8993788819875776\n",
      "\n",
      "\tAdaBoostClassifier + Vote\n",
      "Confusion matrix:\n",
      "[[20  3]\n",
      " [ 2 33]]\n",
      "Accuracy: 0.9137931034482759\n",
      "AUC score: 0.9062111801242235\n",
      "\n"
     ]
    },
    {
     "data": {
      "image/png": "[encoded data removed]",
      "text/plain": [
       "<Figure size 432x288 with 1 Axes>"
      ]
     },
     "metadata": {},
     "output_type": "display_data"
    }
   ],
   "source": [
    "boosted_classifier(X, y, AdaBoostClassifier, methods)"
   ]
  },
  {
   "cell_type": "markdown",
   "metadata": {},
   "source": [
    "### Gradient Boosting"
   ]
  },
  {
   "cell_type": "code",
   "execution_count": 24,
   "metadata": {},
   "outputs": [
    {
     "name": "stdout",
     "output_type": "stream",
     "text": [
      "\tGradientBoosting\n",
      "Confusion matrix:\n",
      "[[26  3]\n",
      " [ 2 27]]\n",
      "Accuracy: 0.9137931034482759\n",
      "AUC score: 0.9137931034482758\n",
      "\n"
     ]
    },
    {
     "data": {
      "image/png": "[encoded data removed]",
      "text/plain": [
       "<Figure size 432x288 with 1 Axes>"
      ]
     },
     "metadata": {},
     "output_type": "display_data"
    }
   ],
   "source": [
    "classifier(X, y, {'GradientBoosting': GradientBoostingClassifier()})"
   ]
  },
  {
   "cell_type": "markdown",
   "metadata": {},
   "source": [
    "### Small research / feature selection"
   ]
  },
  {
   "cell_type": "code",
   "execution_count": 25,
   "metadata": {},
   "outputs": [],
   "source": [
    "data = pd.read_csv('../Parser/human-bot-20000-data.csv', index_col=[0])"
   ]
  },
  {
   "cell_type": "code",
   "execution_count": 26,
   "metadata": {},
   "outputs": [],
   "source": [
    "X = data.drop('label', axis=1)\n",
    "y = data['label']\n",
    "X_train, X_test, y_train, y_test = train_test_split(X, y)"
   ]
  },
  {
   "cell_type": "code",
   "execution_count": 27,
   "metadata": {},
   "outputs": [
    {
     "name": "stdout",
     "output_type": "stream",
     "text": [
      "<class 'pandas.core.frame.DataFrame'>\n",
      "Int64Index: 232 entries, 0 to 231\n",
      "Data columns (total 8 columns):\n",
      "apm    232 non-null float64\n",
      "epm    232 non-null float64\n",
      "gpm    232 non-null float64\n",
      "aht    232 non-null float64\n",
      "dev    232 non-null float64\n",
      "tln    232 non-null float64\n",
      "dbc    232 non-null float64\n",
      "tbc    232 non-null float64\n",
      "dtypes: float64(8)\n",
      "memory usage: 16.3 KB\n"
     ]
    }
   ],
   "source": [
    "X.info()"
   ]
  },
  {
   "cell_type": "code",
   "execution_count": 28,
   "metadata": {},
   "outputs": [],
   "source": [
    "import eli5\n",
    "from eli5.sklearn import PermutationImportance"
   ]
  },
  {
   "cell_type": "markdown",
   "metadata": {},
   "source": [
    "eli5 provides a way to compute feature importances for any black-box estimator by measuring how score decreases when a feature is not available; the method is also known as “permutation importance” or “Mean Decrease Accuracy (MDA)”."
   ]
  },
  {
   "cell_type": "code",
   "execution_count": 34,
   "metadata": {},
   "outputs": [],
   "source": [
    "RF_clf = RandomForestClassifier().fit(X_train, y_train)\n",
    "DT_clf = DecisionTreeClassifier().fit(X_train, y_train)\n",
    "V_clf = VotingClassifier(estimators=[('lr', LogisticRegressionCV(cv=5, max_iter=1000)),\n",
    "                                                  ('nb', GaussianNB()),\n",
    "                                                  ('dt', DecisionTreeClassifier()),\n",
    "                                                  ('et', ExtraTreesClassifier(n_estimators=100, bootstrap=True)),\n",
    "                                                  ('rf', RandomForestClassifier(n_estimators=150))],\n",
    "                                      voting='soft')"
   ]
  },
  {
   "cell_type": "markdown",
   "metadata": {},
   "source": [
    "#### As RandomForest and DecisionTree showed best accuracy before, we'll use them to estimate feature importances"
   ]
  },
  {
   "cell_type": "code",
   "execution_count": 67,
   "metadata": {},
   "outputs": [
    {
     "data": {
      "text/html": [
       "\n",
       "    <style>\n",
       "    table.eli5-weights tr:hover {\n",
       "        filter: brightness(85%);\n",
       "    }\n",
       "</style>\n",
       "\n",
       "\n",
       "\n",
       "    \n",
       "\n",
       "    \n",
       "\n",
       "    \n",
       "\n",
       "    \n",
       "\n",
       "    \n",
       "\n",
       "    \n",
       "\n",
       "\n",
       "    \n",
       "\n",
       "    \n",
       "\n",
       "    \n",
       "\n",
       "    \n",
       "\n",
       "    \n",
       "\n",
       "    \n",
       "\n",
       "\n",
       "    \n",
       "\n",
       "    \n",
       "\n",
       "    \n",
       "\n",
       "    \n",
       "\n",
       "    \n",
       "        <table class=\"eli5-weights eli5-feature-importances\" style=\"border-collapse: collapse; border: none; margin-top: 0em; table-layout: auto;\">\n",
       "    <thead>\n",
       "    <tr style=\"border: none;\">\n",
       "        <th style=\"padding: 0 1em 0 0.5em; text-align: right; border: none;\">Weight</th>\n",
       "        <th style=\"padding: 0 0.5em 0 0.5em; text-align: left; border: none;\">Feature</th>\n",
       "    </tr>\n",
       "    </thead>\n",
       "    <tbody>\n",
       "    \n",
       "        <tr style=\"background-color: hsl(120, 100.00%, 80.00%); border: none;\">\n",
       "            <td style=\"padding: 0 1em 0 0.5em; text-align: right; border: none;\">\n",
       "                0.0793\n",
       "                \n",
       "                    &plusmn; 0.0833\n",
       "                \n",
       "            </td>\n",
       "            <td style=\"padding: 0 0.5em 0 0.5em; text-align: left; border: none;\">\n",
       "                x2\n",
       "            </td>\n",
       "        </tr>\n",
       "    \n",
       "        <tr style=\"background-color: hsl(120, 100.00%, 85.87%); border: none;\">\n",
       "            <td style=\"padding: 0 1em 0 0.5em; text-align: right; border: none;\">\n",
       "                0.0483\n",
       "                \n",
       "                    &plusmn; 0.0338\n",
       "                \n",
       "            </td>\n",
       "            <td style=\"padding: 0 0.5em 0 0.5em; text-align: left; border: none;\">\n",
       "                x3\n",
       "            </td>\n",
       "        </tr>\n",
       "    \n",
       "        <tr style=\"background-color: hsl(120, 100.00%, 87.32%); border: none;\">\n",
       "            <td style=\"padding: 0 1em 0 0.5em; text-align: right; border: none;\">\n",
       "                0.0414\n",
       "                \n",
       "                    &plusmn; 0.0468\n",
       "                \n",
       "            </td>\n",
       "            <td style=\"padding: 0 0.5em 0 0.5em; text-align: left; border: none;\">\n",
       "                x5\n",
       "            </td>\n",
       "        </tr>\n",
       "    \n",
       "        <tr style=\"background-color: hsl(120, 100.00%, 96.38%); border: none;\">\n",
       "            <td style=\"padding: 0 1em 0 0.5em; text-align: right; border: none;\">\n",
       "                0.0069\n",
       "                \n",
       "                    &plusmn; 0.0276\n",
       "                \n",
       "            </td>\n",
       "            <td style=\"padding: 0 0.5em 0 0.5em; text-align: left; border: none;\">\n",
       "                x7\n",
       "            </td>\n",
       "        </tr>\n",
       "    \n",
       "        <tr style=\"background-color: hsl(120, 100.00%, 96.38%); border: none;\">\n",
       "            <td style=\"padding: 0 1em 0 0.5em; text-align: right; border: none;\">\n",
       "                0.0069\n",
       "                \n",
       "                    &plusmn; 0.0276\n",
       "                \n",
       "            </td>\n",
       "            <td style=\"padding: 0 0.5em 0 0.5em; text-align: left; border: none;\">\n",
       "                x4\n",
       "            </td>\n",
       "        </tr>\n",
       "    \n",
       "        <tr style=\"background-color: hsl(120, 100.00%, 96.38%); border: none;\">\n",
       "            <td style=\"padding: 0 1em 0 0.5em; text-align: right; border: none;\">\n",
       "                0.0069\n",
       "                \n",
       "                    &plusmn; 0.0352\n",
       "                \n",
       "            </td>\n",
       "            <td style=\"padding: 0 0.5em 0 0.5em; text-align: left; border: none;\">\n",
       "                x1\n",
       "            </td>\n",
       "        </tr>\n",
       "    \n",
       "        <tr style=\"background-color: hsl(120, 100.00%, 96.38%); border: none;\">\n",
       "            <td style=\"padding: 0 1em 0 0.5em; text-align: right; border: none;\">\n",
       "                0.0069\n",
       "                \n",
       "                    &plusmn; 0.0169\n",
       "                \n",
       "            </td>\n",
       "            <td style=\"padding: 0 0.5em 0 0.5em; text-align: left; border: none;\">\n",
       "                x0\n",
       "            </td>\n",
       "        </tr>\n",
       "    \n",
       "        <tr style=\"background-color: hsl(0, 100.00%, 97.77%); border: none;\">\n",
       "            <td style=\"padding: 0 1em 0 0.5em; text-align: right; border: none;\">\n",
       "                -0.0034\n",
       "                \n",
       "                    &plusmn; 0.0138\n",
       "                \n",
       "            </td>\n",
       "            <td style=\"padding: 0 0.5em 0 0.5em; text-align: left; border: none;\">\n",
       "                x6\n",
       "            </td>\n",
       "        </tr>\n",
       "    \n",
       "    \n",
       "    </tbody>\n",
       "</table>\n",
       "    \n",
       "\n",
       "    \n",
       "\n",
       "\n",
       "    \n",
       "\n",
       "    \n",
       "\n",
       "    \n",
       "\n",
       "    \n",
       "\n",
       "    \n",
       "\n",
       "    \n",
       "\n",
       "\n",
       "\n"
      ],
      "text/plain": [
       "<IPython.core.display.HTML object>"
      ]
     },
     "execution_count": 67,
     "metadata": {},
     "output_type": "execute_result"
    }
   ],
   "source": [
    "perm_rf = PermutationImportance(RF_clf).fit(X_test, y_test)\n",
    "perm_dt = PermutationImportance(DT_clf).fit(X_test, y_test)\n",
    "eli5.show_weights(perm_rf)"
   ]
  },
  {
   "cell_type": "code",
   "execution_count": 68,
   "metadata": {},
   "outputs": [
    {
     "data": {
      "text/html": [
       "\n",
       "    <style>\n",
       "    table.eli5-weights tr:hover {\n",
       "        filter: brightness(85%);\n",
       "    }\n",
       "</style>\n",
       "\n",
       "\n",
       "\n",
       "    \n",
       "\n",
       "    \n",
       "\n",
       "    \n",
       "\n",
       "    \n",
       "\n",
       "    \n",
       "\n",
       "    \n",
       "\n",
       "\n",
       "    \n",
       "\n",
       "    \n",
       "\n",
       "    \n",
       "\n",
       "    \n",
       "\n",
       "    \n",
       "\n",
       "    \n",
       "\n",
       "\n",
       "    \n",
       "\n",
       "    \n",
       "\n",
       "    \n",
       "\n",
       "    \n",
       "\n",
       "    \n",
       "        <table class=\"eli5-weights eli5-feature-importances\" style=\"border-collapse: collapse; border: none; margin-top: 0em; table-layout: auto;\">\n",
       "    <thead>\n",
       "    <tr style=\"border: none;\">\n",
       "        <th style=\"padding: 0 1em 0 0.5em; text-align: right; border: none;\">Weight</th>\n",
       "        <th style=\"padding: 0 0.5em 0 0.5em; text-align: left; border: none;\">Feature</th>\n",
       "    </tr>\n",
       "    </thead>\n",
       "    <tbody>\n",
       "    \n",
       "        <tr style=\"background-color: hsl(120, 100.00%, 80.00%); border: none;\">\n",
       "            <td style=\"padding: 0 1em 0 0.5em; text-align: right; border: none;\">\n",
       "                0.1483\n",
       "                \n",
       "                    &plusmn; 0.0352\n",
       "                \n",
       "            </td>\n",
       "            <td style=\"padding: 0 0.5em 0 0.5em; text-align: left; border: none;\">\n",
       "                x2\n",
       "            </td>\n",
       "        </tr>\n",
       "    \n",
       "        <tr style=\"background-color: hsl(120, 100.00%, 80.66%); border: none;\">\n",
       "            <td style=\"padding: 0 1em 0 0.5em; text-align: right; border: none;\">\n",
       "                0.1414\n",
       "                \n",
       "                    &plusmn; 0.1121\n",
       "                \n",
       "            </td>\n",
       "            <td style=\"padding: 0 0.5em 0 0.5em; text-align: left; border: none;\">\n",
       "                x7\n",
       "            </td>\n",
       "        </tr>\n",
       "    \n",
       "        <tr style=\"background-color: hsl(120, 100.00%, 97.66%); border: none;\">\n",
       "            <td style=\"padding: 0 1em 0 0.5em; text-align: right; border: none;\">\n",
       "                0.0069\n",
       "                \n",
       "                    &plusmn; 0.0276\n",
       "                \n",
       "            </td>\n",
       "            <td style=\"padding: 0 0.5em 0 0.5em; text-align: left; border: none;\">\n",
       "                x0\n",
       "            </td>\n",
       "        </tr>\n",
       "    \n",
       "        <tr style=\"background-color: hsl(0, 100.00%, 100.00%); border: none;\">\n",
       "            <td style=\"padding: 0 1em 0 0.5em; text-align: right; border: none;\">\n",
       "                0\n",
       "                \n",
       "                    &plusmn; 0.0000\n",
       "                \n",
       "            </td>\n",
       "            <td style=\"padding: 0 0.5em 0 0.5em; text-align: left; border: none;\">\n",
       "                x6\n",
       "            </td>\n",
       "        </tr>\n",
       "    \n",
       "        <tr style=\"background-color: hsl(0, 100.00%, 100.00%); border: none;\">\n",
       "            <td style=\"padding: 0 1em 0 0.5em; text-align: right; border: none;\">\n",
       "                0\n",
       "                \n",
       "                    &plusmn; 0.0000\n",
       "                \n",
       "            </td>\n",
       "            <td style=\"padding: 0 0.5em 0 0.5em; text-align: left; border: none;\">\n",
       "                x5\n",
       "            </td>\n",
       "        </tr>\n",
       "    \n",
       "        <tr style=\"background-color: hsl(0, 100.00%, 100.00%); border: none;\">\n",
       "            <td style=\"padding: 0 1em 0 0.5em; text-align: right; border: none;\">\n",
       "                0\n",
       "                \n",
       "                    &plusmn; 0.0000\n",
       "                \n",
       "            </td>\n",
       "            <td style=\"padding: 0 0.5em 0 0.5em; text-align: left; border: none;\">\n",
       "                x4\n",
       "            </td>\n",
       "        </tr>\n",
       "    \n",
       "        <tr style=\"background-color: hsl(0, 100.00%, 100.00%); border: none;\">\n",
       "            <td style=\"padding: 0 1em 0 0.5em; text-align: right; border: none;\">\n",
       "                -0.0000\n",
       "                \n",
       "                    &plusmn; 0.0218\n",
       "                \n",
       "            </td>\n",
       "            <td style=\"padding: 0 0.5em 0 0.5em; text-align: left; border: none;\">\n",
       "                x1\n",
       "            </td>\n",
       "        </tr>\n",
       "    \n",
       "        <tr style=\"background-color: hsl(0, 100.00%, 93.31%); border: none;\">\n",
       "            <td style=\"padding: 0 1em 0 0.5em; text-align: right; border: none;\">\n",
       "                -0.0310\n",
       "                \n",
       "                    &plusmn; 0.0457\n",
       "                \n",
       "            </td>\n",
       "            <td style=\"padding: 0 0.5em 0 0.5em; text-align: left; border: none;\">\n",
       "                x3\n",
       "            </td>\n",
       "        </tr>\n",
       "    \n",
       "    \n",
       "    </tbody>\n",
       "</table>\n",
       "    \n",
       "\n",
       "    \n",
       "\n",
       "\n",
       "    \n",
       "\n",
       "    \n",
       "\n",
       "    \n",
       "\n",
       "    \n",
       "\n",
       "    \n",
       "\n",
       "    \n",
       "\n",
       "\n",
       "\n"
      ],
      "text/plain": [
       "<IPython.core.display.HTML object>"
      ]
     },
     "execution_count": 68,
     "metadata": {},
     "output_type": "execute_result"
    }
   ],
   "source": [
    "eli5.show_weights(perm_dt)"
   ]
  },
  {
   "cell_type": "markdown",
   "metadata": {},
   "source": [
    "#### Making a conclusion, that we should use features ['gpm', 'tbc', 'epm', 'aht'] ('dev'?)"
   ]
  },
  {
   "cell_type": "code",
   "execution_count": 69,
   "metadata": {},
   "outputs": [],
   "source": [
    "X_red = X[['gpm', 'tbc', 'epm', 'aht']]"
   ]
  },
  {
   "cell_type": "code",
   "execution_count": 70,
   "metadata": {},
   "outputs": [
    {
     "name": "stdout",
     "output_type": "stream",
     "text": [
      "\tLogistic regression\n",
      "Confusion matrix:\n",
      "[[17 14]\n",
      " [ 0 27]]\n",
      "Accuracy: 0.7586206896551724\n",
      "AUC score: 0.7741935483870968\n",
      "\n",
      "\tNaive Bayes\n",
      "Confusion matrix:\n",
      "[[22  9]\n",
      " [ 0 27]]\n",
      "Accuracy: 0.8448275862068966\n",
      "AUC score: 0.8548387096774194\n",
      "\n",
      "\tK-NN\n",
      "Confusion matrix:\n",
      "[[26  5]\n",
      " [ 3 24]]\n",
      "Accuracy: 0.8620689655172413\n",
      "AUC score: 0.8637992831541219\n",
      "\n",
      "\tDecision Tree\n",
      "Confusion matrix:\n",
      "[[27  4]\n",
      " [ 0 27]]\n",
      "Accuracy: 0.9310344827586207\n",
      "AUC score: 0.935483870967742\n",
      "\n",
      "\tRandom Forest\n",
      "Confusion matrix:\n",
      "[[29  2]\n",
      " [ 0 27]]\n",
      "Accuracy: 0.9655172413793104\n",
      "AUC score: 0.967741935483871\n",
      "\n",
      "\tExtra Trees\n",
      "Confusion matrix:\n",
      "[[28  3]\n",
      " [ 1 26]]\n",
      "Accuracy: 0.9310344827586207\n",
      "AUC score: 0.9330943847072878\n",
      "\n",
      "\tVote\n",
      "Confusion matrix:\n",
      "[[28  3]\n",
      " [ 0 27]]\n",
      "Accuracy: 0.9482758620689655\n",
      "AUC score: 0.9516129032258064\n",
      "\n"
     ]
    },
    {
     "name": "stderr",
     "output_type": "stream",
     "text": [
      "/anaconda3/lib/python3.6/site-packages/sklearn/preprocessing/label.py:151: DeprecationWarning: The truth value of an empty array is ambiguous. Returning False, but in future this will result in an error. Use `array.size > 0` to check that an array is not empty.\n",
      "  if diff:\n",
      "/anaconda3/lib/python3.6/site-packages/sklearn/preprocessing/label.py:151: DeprecationWarning: The truth value of an empty array is ambiguous. Returning False, but in future this will result in an error. Use `array.size > 0` to check that an array is not empty.\n",
      "  if diff:\n"
     ]
    },
    {
     "data": {
      "image/png": "[encoded data removed]",
      "text/plain": [
       "<Figure size 432x288 with 1 Axes>"
      ]
     },
     "metadata": {},
     "output_type": "display_data"
    }
   ],
   "source": [
    "classifier(X_red, y, methods)"
   ]
  },
  {
   "cell_type": "code",
   "execution_count": 72,
   "metadata": {},
   "outputs": [
    {
     "name": "stdout",
     "output_type": "stream",
     "text": [
      "\tBaggingClassifier + Logistic regression\n",
      "Confusion matrix:\n",
      "[[22  9]\n",
      " [ 0 27]]\n",
      "Accuracy: 0.8448275862068966\n",
      "AUC score: 0.8548387096774194\n",
      "\n",
      "\tBaggingClassifier + Naive Bayes\n",
      "Confusion matrix:\n",
      "[[24  7]\n",
      " [ 0 27]]\n",
      "Accuracy: 0.8793103448275862\n",
      "AUC score: 0.8870967741935484\n",
      "\n",
      "\tBaggingClassifier + K-NN\n",
      "Confusion matrix:\n",
      "[[29  2]\n",
      " [ 2 25]]\n",
      "Accuracy: 0.9310344827586207\n",
      "AUC score: 0.930704898446834\n",
      "\n",
      "\tBaggingClassifier + Decision Tree\n",
      "Confusion matrix:\n",
      "[[27  4]\n",
      " [ 2 25]]\n",
      "Accuracy: 0.896551724137931\n",
      "AUC score: 0.8984468339307049\n",
      "\n",
      "\tBaggingClassifier + Random Forest\n",
      "Confusion matrix:\n",
      "[[26  5]\n",
      " [ 1 26]]\n",
      "Accuracy: 0.896551724137931\n",
      "AUC score: 0.9008363201911589\n",
      "\n",
      "\tBaggingClassifier + Extra Trees\n",
      "Confusion matrix:\n",
      "[[27  4]\n",
      " [ 1 26]]\n",
      "Accuracy: 0.9137931034482759\n",
      "AUC score: 0.9169653524492233\n",
      "\n",
      "\tBaggingClassifier + Vote\n",
      "Confusion matrix:\n",
      "[[27  4]\n",
      " [ 1 26]]\n",
      "Accuracy: 0.9137931034482759\n",
      "AUC score: 0.9169653524492233\n",
      "\n"
     ]
    },
    {
     "data": {
      "image/png": "[encoded data removed]",
      "text/plain": [
       "<Figure size 432x288 with 1 Axes>"
      ]
     },
     "metadata": {},
     "output_type": "display_data"
    }
   ],
   "source": [
    "boosted_classifier(X_red, y, BaggingClassifier, methods)"
   ]
  },
  {
   "cell_type": "code",
   "execution_count": 73,
   "metadata": {},
   "outputs": [
    {
     "name": "stdout",
     "output_type": "stream",
     "text": [
      "\tAdaBoostClassifier + Logistic regression\n",
      "Confusion matrix:\n",
      "[[14 18]\n",
      " [ 1 25]]\n",
      "Accuracy: 0.6724137931034483\n",
      "AUC score: 0.6995192307692308\n",
      "\n",
      "\tAdaBoostClassifier + Naive Bayes\n",
      "Confusion matrix:\n",
      "[[30  2]\n",
      " [ 4 22]]\n",
      "Accuracy: 0.896551724137931\n",
      "AUC score: 0.8918269230769231\n",
      "\n",
      "\tAdaBoostClassifier + Decision Tree\n",
      "Confusion matrix:\n",
      "[[29  3]\n",
      " [ 5 21]]\n",
      "Accuracy: 0.8620689655172413\n",
      "AUC score: 0.856971153846154\n",
      "\n",
      "\tAdaBoostClassifier + Random Forest\n",
      "Confusion matrix:\n",
      "[[30  2]\n",
      " [ 2 24]]\n",
      "Accuracy: 0.9310344827586207\n",
      "AUC score: 0.9302884615384616\n",
      "\n",
      "\tAdaBoostClassifier + Extra Trees\n",
      "Confusion matrix:\n",
      "[[31  1]\n",
      " [ 5 21]]\n",
      "Accuracy: 0.896551724137931\n",
      "AUC score: 0.8882211538461539\n",
      "\n",
      "\tAdaBoostClassifier + Vote\n",
      "Confusion matrix:\n",
      "[[28  4]\n",
      " [ 3 23]]\n",
      "Accuracy: 0.8793103448275862\n",
      "AUC score: 0.8798076923076923\n",
      "\n"
     ]
    },
    {
     "data": {
      "image/png": "[encoded data removed]",
      "text/plain": [
       "<Figure size 432x288 with 1 Axes>"
      ]
     },
     "metadata": {},
     "output_type": "display_data"
    }
   ],
   "source": [
    "boosted_classifier(X_red, y, AdaBoostClassifier, methods)"
   ]
  },
  {
   "cell_type": "code",
   "execution_count": 75,
   "metadata": {},
   "outputs": [
    {
     "name": "stdout",
     "output_type": "stream",
     "text": [
      "\tGradientBoosting\n",
      "Confusion matrix:\n",
      "[[26  5]\n",
      " [ 2 25]]\n",
      "Accuracy: 0.8793103448275862\n",
      "AUC score: 0.8823178016726405\n",
      "\n"
     ]
    },
    {
     "data": {
      "image/png": "[encoded data removed]",
      "text/plain": [
       "<Figure size 432x288 with 1 Axes>"
      ]
     },
     "metadata": {},
     "output_type": "display_data"
    }
   ],
   "source": [
    "classifier(X_red, y, {'GradientBoosting': GradientBoostingClassifier()})"
   ]
  },
  {
   "cell_type": "markdown",
   "metadata": {},
   "source": [
    "### Let's try add 'dev'"
   ]
  },
  {
   "cell_type": "code",
   "execution_count": 110,
   "metadata": {},
   "outputs": [],
   "source": [
    "X_red_wdev = X[['tbc', 'aht', 'tln']]"
   ]
  },
  {
   "cell_type": "code",
   "execution_count": 111,
   "metadata": {},
   "outputs": [
    {
     "name": "stdout",
     "output_type": "stream",
     "text": [
      "\tLogistic regression\n",
      "Confusion matrix:\n",
      "[[22  4]\n",
      " [ 4 28]]\n",
      "Accuracy: 0.8620689655172413\n",
      "AUC score: 0.860576923076923\n",
      "\n",
      "\tNaive Bayes\n",
      "Confusion matrix:\n",
      "[[21  5]\n",
      " [ 4 28]]\n",
      "Accuracy: 0.8448275862068966\n",
      "AUC score: 0.8413461538461539\n",
      "\n",
      "\tK-NN\n",
      "Confusion matrix:\n",
      "[[24  2]\n",
      " [ 4 28]]\n",
      "Accuracy: 0.896551724137931\n",
      "AUC score: 0.8990384615384616\n",
      "\n",
      "\tDecision Tree\n",
      "Confusion matrix:\n",
      "[[22  4]\n",
      " [ 3 29]]\n",
      "Accuracy: 0.8793103448275862\n",
      "AUC score: 0.876201923076923\n",
      "\n",
      "\tRandom Forest\n",
      "Confusion matrix:\n",
      "[[21  5]\n",
      " [ 4 28]]\n",
      "Accuracy: 0.8448275862068966\n",
      "AUC score: 0.8413461538461539\n",
      "\n",
      "\tExtra Trees\n",
      "Confusion matrix:\n",
      "[[22  4]\n",
      " [ 4 28]]\n",
      "Accuracy: 0.8620689655172413\n",
      "AUC score: 0.860576923076923\n",
      "\n"
     ]
    },
    {
     "name": "stderr",
     "output_type": "stream",
     "text": [
      "/anaconda3/lib/python3.6/site-packages/sklearn/preprocessing/label.py:151: DeprecationWarning: The truth value of an empty array is ambiguous. Returning False, but in future this will result in an error. Use `array.size > 0` to check that an array is not empty.\n",
      "  if diff:\n",
      "/anaconda3/lib/python3.6/site-packages/sklearn/preprocessing/label.py:151: DeprecationWarning: The truth value of an empty array is ambiguous. Returning False, but in future this will result in an error. Use `array.size > 0` to check that an array is not empty.\n",
      "  if diff:\n"
     ]
    },
    {
     "name": "stdout",
     "output_type": "stream",
     "text": [
      "\tVote\n",
      "Confusion matrix:\n",
      "[[23  3]\n",
      " [ 2 30]]\n",
      "Accuracy: 0.9137931034482759\n",
      "AUC score: 0.9110576923076923\n",
      "\n"
     ]
    },
    {
     "data": {
      "image/png": "[encoded data removed]",
      "text/plain": [
       "<Figure size 432x288 with 1 Axes>"
      ]
     },
     "metadata": {},
     "output_type": "display_data"
    }
   ],
   "source": [
    "classifier(X_red_wdev, y, methods)"
   ]
  },
  {
   "cell_type": "code",
   "execution_count": 112,
   "metadata": {
    "scrolled": false
   },
   "outputs": [
    {
     "name": "stdout",
     "output_type": "stream",
     "text": [
      "\tBaggingClassifier + Logistic regression\n",
      "Confusion matrix:\n",
      "[[20  7]\n",
      " [ 1 30]]\n",
      "Accuracy: 0.8620689655172413\n",
      "AUC score: 0.8542413381123057\n",
      "\n",
      "\tBaggingClassifier + Naive Bayes\n",
      "Confusion matrix:\n",
      "[[14 13]\n",
      " [ 0 31]]\n",
      "Accuracy: 0.7758620689655172\n",
      "AUC score: 0.7592592592592593\n",
      "\n",
      "\tBaggingClassifier + K-NN\n",
      "Confusion matrix:\n",
      "[[23  4]\n",
      " [ 3 28]]\n",
      "Accuracy: 0.8793103448275862\n",
      "AUC score: 0.8775388291517324\n",
      "\n",
      "\tBaggingClassifier + Decision Tree\n",
      "Confusion matrix:\n",
      "[[23  4]\n",
      " [ 1 30]]\n",
      "Accuracy: 0.9137931034482759\n",
      "AUC score: 0.9097968936678614\n",
      "\n",
      "\tBaggingClassifier + Random Forest\n",
      "Confusion matrix:\n",
      "[[23  4]\n",
      " [ 1 30]]\n",
      "Accuracy: 0.9137931034482759\n",
      "AUC score: 0.9097968936678614\n",
      "\n",
      "\tBaggingClassifier + Extra Trees\n",
      "Confusion matrix:\n",
      "[[23  4]\n",
      " [ 1 30]]\n",
      "Accuracy: 0.9137931034482759\n",
      "AUC score: 0.9097968936678614\n",
      "\n",
      "\tBaggingClassifier + Vote\n",
      "Confusion matrix:\n",
      "[[22  5]\n",
      " [ 1 30]]\n",
      "Accuracy: 0.896551724137931\n",
      "AUC score: 0.8912783751493429\n",
      "\n"
     ]
    },
    {
     "data": {
      "image/png": "[encoded data removed]",
      "text/plain": [
       "<Figure size 432x288 with 1 Axes>"
      ]
     },
     "metadata": {},
     "output_type": "display_data"
    }
   ],
   "source": [
    "boosted_classifier(X_red, y, BaggingClassifier, methods)"
   ]
  },
  {
   "cell_type": "code",
   "execution_count": 113,
   "metadata": {},
   "outputs": [
    {
     "name": "stdout",
     "output_type": "stream",
     "text": [
      "\tAdaBoostClassifier + Logistic regression\n",
      "Confusion matrix:\n",
      "[[ 8 27]\n",
      " [ 1 22]]\n",
      "Accuracy: 0.5172413793103449\n",
      "AUC score: 0.5925465838509316\n",
      "\n",
      "\tAdaBoostClassifier + Naive Bayes\n",
      "Confusion matrix:\n",
      "[[25 10]\n",
      " [ 1 22]]\n",
      "Accuracy: 0.8103448275862069\n",
      "AUC score: 0.8354037267080746\n",
      "\n",
      "\tAdaBoostClassifier + Decision Tree\n",
      "Confusion matrix:\n",
      "[[33  2]\n",
      " [ 2 21]]\n",
      "Accuracy: 0.9310344827586207\n",
      "AUC score: 0.9279503105590062\n",
      "\n",
      "\tAdaBoostClassifier + Random Forest\n",
      "Confusion matrix:\n",
      "[[34  1]\n",
      " [ 4 19]]\n",
      "Accuracy: 0.9137931034482759\n",
      "AUC score: 0.8987577639751554\n",
      "\n",
      "\tAdaBoostClassifier + Extra Trees\n",
      "Confusion matrix:\n",
      "[[35  0]\n",
      " [ 1 22]]\n",
      "Accuracy: 0.9827586206896551\n",
      "AUC score: 0.9782608695652174\n",
      "\n",
      "\tAdaBoostClassifier + Vote\n",
      "Confusion matrix:\n",
      "[[34  1]\n",
      " [ 2 21]]\n",
      "Accuracy: 0.9482758620689655\n",
      "AUC score: 0.9422360248447206\n",
      "\n"
     ]
    },
    {
     "data": {
      "image/png": "[encoded data removed]",
      "text/plain": [
       "<Figure size 432x288 with 1 Axes>"
      ]
     },
     "metadata": {},
     "output_type": "display_data"
    }
   ],
   "source": [
    "boosted_classifier(X_red, y, AdaBoostClassifier, methods)"
   ]
  },
  {
   "cell_type": "markdown",
   "metadata": {},
   "source": [
    "### We can see, that on the smallest feature set `Random Forest` obviously showes best accuracy, because that features was picked up considering this classificator.\n",
    "\n",
    "### Classification results showed up, that adding 'dev' feature decreases accuracy in all cases, except human vs human classification (which, probably, happened because of different play styles of concrete players). In other cases, made a conclusion, that using 'dev' feature makes our data more noisy, that's why we won't use it "
   ]
  },
  {
   "cell_type": "code",
   "execution_count": null,
   "metadata": {},
   "outputs": [],
   "source": []
  }
 ],
 "metadata": {
  "kernelspec": {
   "display_name": "Python 3",
   "language": "python",
   "name": "python3"
  },
  "language_info": {
   "codemirror_mode": {
    "name": "ipython",
    "version": 3
   },
   "file_extension": ".py",
   "mimetype": "text/x-python",
   "name": "python",
   "nbconvert_exporter": "python",
   "pygments_lexer": "ipython3",
   "version": "3.6.5"
  }
 },
 "nbformat": 4,
 "nbformat_minor": 1
}
